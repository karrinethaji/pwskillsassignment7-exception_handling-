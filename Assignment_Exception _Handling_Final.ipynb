{
 "cells": [
  {
   "cell_type": "markdown",
   "id": "70ef8dfe-fdf3-4bfa-abd4-00352a27ee57",
   "metadata": {},
   "source": [
    "## Assignement on Exception Handling"
   ]
  },
  {
   "cell_type": "markdown",
   "id": "9f024011-a02a-41b2-bc4b-2658000224a1",
   "metadata": {},
   "source": [
    "##### Q1. What is an Exception in python? Write the differences between Exceptions and syntax errors?"
   ]
  },
  {
   "cell_type": "markdown",
   "id": "70bbbce9-ebc5-4bb3-812b-4521e10b2783",
   "metadata": {},
   "source": [
    "Exception is an error which happens at the time of execution of program. When a Python code comes across a condition it can't handle, it raises an exception. An object in Python that describes an error is called an exception.\n",
    "\n",
    "(or)\n",
    "\n",
    "An Exception is an event that occurs during the program execution and disrupts the normal flow of the program's execution\n",
    "\n",
    "The difference between the exception and syntax error is \" Errors occurs while compiling the program and runtime as well but they mostly occur while compiling the program (syntax errors , name errors etc.,) but the exceptions will occur while runtime of the program\""
   ]
  },
  {
   "cell_type": "markdown",
   "id": "5e8c2fad-1418-4346-9803-58fbbc84e927",
   "metadata": {},
   "source": [
    "##### Q2. What happens when an exception is not handled? Explain with an example?"
   ]
  },
  {
   "cell_type": "code",
   "execution_count": 1,
   "id": "59b9dfb5-ee76-475e-a24f-08119a4f8e38",
   "metadata": {},
   "outputs": [
    {
     "name": "stdout",
     "output_type": "stream",
     "text": [
      "Zero division error occurs, Denominator must be non-zero\n",
      "Succesfully handled the exception\n"
     ]
    }
   ],
   "source": [
    "# As we know the exceptions will occur in the runtime of the program , If we didn't handled the exceptions \n",
    "# then the program will crash in the runtime. It is better to use the exceptions in the program to avoid the \n",
    "# runtime error caused by the runtime errors\n",
    "\n",
    "# Example to demonstrate the use of exception handling\n",
    "\n",
    "a,b=1,0\n",
    "\n",
    "# a/b --> if we directly perform the division operation with denominator 0, then we surely get runtime error \n",
    "#stating that , ZeroDivisionError, so to handle that error we can use the try and except block\n",
    "\n",
    "try:\n",
    "    a/b\n",
    "except ZeroDivisionError:\n",
    "    print(\"Zero division error occurs, Denominator must be non-zero\")\n",
    "# except ZeroDivisionError as e:\n",
    "#     print(e)   \n",
    "finally:\n",
    "    print(\"Succesfully handled the exception\")"
   ]
  },
  {
   "cell_type": "markdown",
   "id": "b553d9f3-d8d6-44c1-a708-a14ff68bf1f7",
   "metadata": {},
   "source": [
    "##### Q3. Which Python statements are used to catch and handle exceptions? Explain with an example?"
   ]
  },
  {
   "cell_type": "code",
   "execution_count": 2,
   "id": "647186d4-e066-4d4c-be74-748a6a64fa80",
   "metadata": {},
   "outputs": [
    {
     "name": "stdout",
     "output_type": "stream",
     "text": [
      "Value error occured : invalid literal for int() with base 10: 'A'\n",
      "The final statement is executed\n"
     ]
    }
   ],
   "source": [
    "# We can handle the exceptions using the \"try\" and \"except\" statements.\n",
    "\n",
    "a=\"A\"\n",
    "\n",
    "try:\n",
    "    int(a) # It will through value error, we can catch that error using \"except\" statement\n",
    "except ValueError as e: # this except statement will handle the value error \n",
    "    print(\"Value error occured :\",e) \n",
    "except (NameError, TypeError) as e:\n",
    "    print(e)\n",
    "finally:\n",
    "    print(\"The final statement is executed\")\n",
    "    \n",
    "\n"
   ]
  },
  {
   "cell_type": "markdown",
   "id": "eb0281d2-a1f5-4238-9d49-846640235a0c",
   "metadata": {},
   "source": [
    "#### Q4. Explain with an exmple:\n",
    "1. try and else\n",
    "2. finally\n",
    "3. raise"
   ]
  },
  {
   "cell_type": "code",
   "execution_count": 3,
   "id": "50a09aa4-aca5-4b93-91e4-ae93e3d11adf",
   "metadata": {},
   "outputs": [
    {
     "name": "stdout",
     "output_type": "stream",
     "text": [
      "else statement is executed\n",
      "final statement is executed\n"
     ]
    }
   ],
   "source": [
    "# try and else:\n",
    "\n",
    "# try statement is used to detect the runtime exception produced by the program. If try statement didn't detect any \n",
    "# exception then else block will executed .\n",
    "\n",
    "# if try block detect any error ( NameError, TypeError etc.,) then else won't executed.\n",
    "\n",
    "# finally statement is exceuted at the end of the program \n",
    "\n",
    "try:\n",
    "    a=10\n",
    "    b=a+10\n",
    "except NameError as e:\n",
    "    print(\"Name error :\",e)\n",
    "except Exception:\n",
    "    print(\"Main exception occured\")\n",
    "else:\n",
    "    print(\"else statement is executed\")\n",
    "finally:\n",
    "    print(\"final statement is executed\")"
   ]
  },
  {
   "cell_type": "code",
   "execution_count": 4,
   "id": "e1779c4e-10fb-4a59-b1e8-e11c64430d20",
   "metadata": {},
   "outputs": [
    {
     "name": "stdout",
     "output_type": "stream",
     "text": [
      "Nethaji exception is raised\n",
      "finally statement executed\n"
     ]
    }
   ],
   "source": [
    "# To create the custom exception class we need to inherit the properties from the base class (Exception class , exception class is the inbuilt exceptions provided by the python)\n",
    "# Once we inherit the Exception class , then we can handle the error using the user defined exceptions according to the requirement\n",
    "# custom exceptions are raised by using the keyword \"raise\"\n",
    "# Let's see example to demonstrate the custom exception\n",
    "\n",
    "class Nethaji_Exception(Exception): # Nethaji Exception is child class for the parent class\n",
    "    def __init__(self, message):\n",
    "        super().__init__(message) # passing the message to parent class\n",
    "a,b=100,20\n",
    "try:\n",
    "    if a>b: \n",
    "        raise Nethaji_Exception(\"Nethaji exception is raised\") # 1) Raise keyword is used to call the custom exception\n",
    "except Nethaji_Exception as e: #comment these 2 lines and uncomment the below 2 commented lines and observe the output\n",
    "    print(e) # output is the above message which was passed to the parent class\n",
    "#except Nethaji_Exception:\n",
    "    #print(\"Need to write the manual message that needs to be print\") # output is the above message which was passed to the parent class\n",
    "except Exception:\n",
    "    print(\"Exception class is executed\")\n",
    "finally: # Finally statement will always execute , regarless of exception occurs or not\n",
    "    print(\"finally statement executed\")"
   ]
  },
  {
   "cell_type": "markdown",
   "id": "c71fb4b8",
   "metadata": {},
   "source": [
    "#### Q5. What are Custom Exceptions in python? Why do we need Custom Exceptions? Explain with an example"
   ]
  },
  {
   "cell_type": "code",
   "execution_count": 5,
   "id": "2b28343f",
   "metadata": {},
   "outputs": [
    {
     "name": "stdout",
     "output_type": "stream",
     "text": [
      "User defined exception was raised\n",
      "Thanks for your time to check the program\n"
     ]
    }
   ],
   "source": [
    "# Custom Exceptions \n",
    "\n",
    "# How to create the custom exceptions ( custom exceptions means user defined exceptions )\n",
    "\n",
    "# To create the custom exception class we need to inherit the properties from the base class (Exception class , exception class is the inbuilt exceptions provided by the python)\n",
    "\n",
    "# Once we inherit the Exception class , then we can handle the error using the user defined exceptions according to the requirement\n",
    "\n",
    "# custom exceptions are raised by using the keyword \"raise\"\n",
    "\n",
    "# Let's see the small programs to know how to create the custom exceptions\n",
    "\n",
    "class User_Defined_Exception(Exception):\n",
    "    def __init__(self, message):\n",
    "        super().__init__(message)\n",
    "def nethaji(a):\n",
    "    if a>10:\n",
    "        raise User_Defined_Exception(\"User defined exception was raised\")\n",
    "try:\n",
    "    nethaji(11)\n",
    "except User_Defined_Exception as e:\n",
    "    print(e)\n",
    "finally:\n",
    "    print(\"Thanks for your time to check the program\")"
   ]
  },
  {
   "cell_type": "markdown",
   "id": "257906f3",
   "metadata": {},
   "source": [
    "#### Q6. Create Custom exception class. Use this class to handle an exception."
   ]
  },
  {
   "cell_type": "code",
   "execution_count": 6,
   "id": "e3b15c8e",
   "metadata": {},
   "outputs": [
    {
     "name": "stdout",
     "output_type": "stream",
     "text": [
      "Nethaji exception is raised\n",
      "finally statement executed\n"
     ]
    }
   ],
   "source": [
    "class Nethaji_Exception(Exception): # Nethaji Exception is child class for the parent class\n",
    "    def __init__(self, message):\n",
    "        super().__init__(message) # passing the message to parent class\n",
    "a,b=100,20\n",
    "try:\n",
    "    if a>b: \n",
    "        raise Nethaji_Exception(\"Nethaji exception is raised\") # 1) Raise keyword is used to call the custom exception\n",
    "except Nethaji_Exception as e: #comment these 2 lines and uncomment the below 2 commented lines and observe the output\n",
    "    print(e) # output is the above message which was passed to the parent class\n",
    "#except Nethaji_Exception:\n",
    "    #print(\"Need to write the manual message that needs to be print\") # output is the above message which was passed to the parent class\n",
    "except Exception:\n",
    "    print(\"Exception class is executed\")\n",
    "finally: # Finally statement will always execute , regarless of exception occurs or not\n",
    "    print(\"finally statement executed\")"
   ]
  }
 ],
 "metadata": {
  "kernelspec": {
   "display_name": "Python 3 (ipykernel)",
   "language": "python",
   "name": "python3"
  },
  "language_info": {
   "codemirror_mode": {
    "name": "ipython",
    "version": 3
   },
   "file_extension": ".py",
   "mimetype": "text/x-python",
   "name": "python",
   "nbconvert_exporter": "python",
   "pygments_lexer": "ipython3",
   "version": "3.10.9"
  }
 },
 "nbformat": 4,
 "nbformat_minor": 5
}
